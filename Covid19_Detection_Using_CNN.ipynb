{
  "nbformat": 4,
  "nbformat_minor": 0,
  "metadata": {
    "colab": {
      "name": "Covid19_Detection_Using_CNN.ipynb",
      "provenance": [],
      "authorship_tag": "ABX9TyMBNxuf6GhCF86Lltw7als6",
      "include_colab_link": true
    },
    "kernelspec": {
      "name": "python3",
      "display_name": "Python 3"
    },
    "language_info": {
      "name": "python"
    }
  },
  "cells": [
    {
      "cell_type": "markdown",
      "metadata": {
        "id": "view-in-github",
        "colab_type": "text"
      },
      "source": [
        "<a href=\"https://colab.research.google.com/github/R06880/Covid19-Detection-Using-CNN/blob/main/Covid19_Detection_Using_CNN.ipynb\" target=\"_parent\"><img src=\"https://colab.research.google.com/assets/colab-badge.svg\" alt=\"Open In Colab\"/></a>"
      ]
    },
    {
      "cell_type": "code",
      "metadata": {
        "id": "ms-1DchCB6bE"
      },
      "source": [
        "from google.colab import drive"
      ],
      "execution_count": 1,
      "outputs": []
    },
    {
      "cell_type": "code",
      "metadata": {
        "colab": {
          "base_uri": "https://localhost:8080/",
          "height": 131
        },
        "id": "BNgvOOo8Ys9p",
        "outputId": "4865aff0-3754-49af-8005-252a474bdc33"
      },
      "source": [
        "drive.mount(‘/content/gdrive’)"
      ],
      "execution_count": 2,
      "outputs": [
        {
          "output_type": "error",
          "ename": "SyntaxError",
          "evalue": "ignored",
          "traceback": [
            "\u001b[0;36m  File \u001b[0;32m\"<ipython-input-2-d80f7fd30895>\"\u001b[0;36m, line \u001b[0;32m1\u001b[0m\n\u001b[0;31m    drive.mount(‘/content/gdrive’)\u001b[0m\n\u001b[0m                ^\u001b[0m\n\u001b[0;31mSyntaxError\u001b[0m\u001b[0;31m:\u001b[0m invalid character in identifier\n"
          ]
        }
      ]
    },
    {
      "cell_type": "code",
      "metadata": {
        "colab": {
          "base_uri": "https://localhost:8080/"
        },
        "id": "b7OL97aYYyXN",
        "outputId": "7ec85041-0e8a-4840-d9bc-d95714c5ad16"
      },
      "source": [
        "drive.mount('/content/gdrive')"
      ],
      "execution_count": 3,
      "outputs": [
        {
          "output_type": "stream",
          "text": [
            "Mounted at /content/gdrive\n"
          ],
          "name": "stdout"
        }
      ]
    },
    {
      "cell_type": "code",
      "metadata": {
        "id": "sdCuAUVHY35H"
      },
      "source": [
        "/content/gdrive/My Drive/CovidDataset/Train"
      ],
      "execution_count": null,
      "outputs": []
    },
    {
      "cell_type": "code",
      "metadata": {
        "colab": {
          "base_uri": "https://localhost:8080/"
        },
        "id": "YPCdwrKGcx8a",
        "outputId": "da3e8095-4f6d-4c56-f083-0bb0a71a20ca"
      },
      "source": [
        "# import libraries\n",
        "# we will preprocess the images using the preprocessing modules from keras\n",
        "# we will import all layers and all models from Keras\n",
        "# we import PIL to load images\n",
        "\n",
        "from PIL import Image\n",
        "from tensorflow.python.keras.preprocessing import image\n",
        "from tensorflow.python.keras.layers import *\n",
        "from tensorflow.python.keras.models import * \n",
        "print('Imported Successfully!')"
      ],
      "execution_count": 4,
      "outputs": [
        {
          "output_type": "stream",
          "text": [
            "Imported Successfully!\n"
          ],
          "name": "stdout"
        }
      ]
    },
    {
      "cell_type": "code",
      "metadata": {
        "colab": {
          "base_uri": "https://localhost:8080/"
        },
        "id": "xVASOAILc0-j",
        "outputId": "8194efbc-ed9b-4975-a96e-e89c8d44cb42"
      },
      "source": [
        "# \n",
        "\n",
        "train_datagen = image.ImageDataGenerator(rescale=1./255, shear_range=0.2, zoom_range=0.2, horizontal_flip=True)\n",
        "test_datagen = image.ImageDataGenerator(rescale = 1./255)\n",
        "\n",
        "print('Created the Data Generator Objects.')"
      ],
      "execution_count": 5,
      "outputs": [
        {
          "output_type": "stream",
          "text": [
            "Created the Data Generator Objects.\n"
          ],
          "name": "stdout"
        }
      ]
    },
    {
      "cell_type": "code",
      "metadata": {
        "colab": {
          "base_uri": "https://localhost:8080/"
        },
        "id": "qz-CUaFqc5e2",
        "outputId": "c2415fc0-8cff-462c-db91-bf0923b8bbb7"
      },
      "source": [
        "train_generator = train_datagen.flow_from_directory('/content/gdrive/My Drive/CovidDataset/Train',target_size=(224,224),batch_size=32, class_mode=\"binary\")\n",
        "val_generator = test_datagen.flow_from_directory('/content/gdrive/My Drive/CovidDataset/Val',target_size=(224,224),batch_size=32, class_mode=\"binary\")\n"
      ],
      "execution_count": 7,
      "outputs": [
        {
          "output_type": "stream",
          "text": [
            "Found 224 images belonging to 2 classes.\n",
            "Found 60 images belonging to 2 classes.\n"
          ],
          "name": "stdout"
        }
      ]
    },
    {
      "cell_type": "code",
      "metadata": {
        "colab": {
          "base_uri": "https://localhost:8080/"
        },
        "id": "PynopHSMdJwf",
        "outputId": "e0b14d8d-bb93-4b39-9d46-b05b50000e46"
      },
      "source": [
        "model = Sequential()\n",
        "model.add(Conv2D(32, kernel_size=(3,3), activation=\"relu\",input_shape=(224,224,3)))\n",
        "model.add(Conv2D(64, kernel_size=(3,3), activation=\"relu\"))\n",
        "model.add(MaxPooling2D(pool_size=(2,2)))\n",
        "model.add(Dropout(0.25))\n",
        "model.add(Conv2D(128, kernel_size=(3,3), activation=\"relu\"))\n",
        "model.add(MaxPooling2D(pool_size=(2,2)))\n",
        "model.add(Dropout(0.25))\n",
        "model.add(Flatten())\n",
        "model.add(Dense(64, activation = \"relu\"))\n",
        "model.add(Dropout(0.5))\n",
        "model.add(Dense(1, activation=\"sigmoid\"))\n",
        "\n",
        "model.compile(loss=\"binary_crossentropy\", optimizer=\"adam\",metrics = [\"accuracy\"])\n",
        "model.summary()"
      ],
      "execution_count": 8,
      "outputs": [
        {
          "output_type": "stream",
          "text": [
            "Model: \"sequential\"\n",
            "_________________________________________________________________\n",
            "Layer (type)                 Output Shape              Param #   \n",
            "=================================================================\n",
            "conv2d (Conv2D)              (None, 222, 222, 32)      896       \n",
            "_________________________________________________________________\n",
            "conv2d_1 (Conv2D)            (None, 220, 220, 64)      18496     \n",
            "_________________________________________________________________\n",
            "max_pooling2d (MaxPooling2D) (None, 110, 110, 64)      0         \n",
            "_________________________________________________________________\n",
            "dropout (Dropout)            (None, 110, 110, 64)      0         \n",
            "_________________________________________________________________\n",
            "conv2d_2 (Conv2D)            (None, 108, 108, 128)     73856     \n",
            "_________________________________________________________________\n",
            "max_pooling2d_1 (MaxPooling2 (None, 54, 54, 128)       0         \n",
            "_________________________________________________________________\n",
            "dropout_1 (Dropout)          (None, 54, 54, 128)       0         \n",
            "_________________________________________________________________\n",
            "flatten (Flatten)            (None, 373248)            0         \n",
            "_________________________________________________________________\n",
            "dense (Dense)                (None, 64)                23887936  \n",
            "_________________________________________________________________\n",
            "dropout_2 (Dropout)          (None, 64)                0         \n",
            "_________________________________________________________________\n",
            "dense_1 (Dense)              (None, 1)                 65        \n",
            "=================================================================\n",
            "Total params: 23,981,249\n",
            "Trainable params: 23,981,249\n",
            "Non-trainable params: 0\n",
            "_________________________________________________________________\n"
          ],
          "name": "stdout"
        }
      ]
    },
    {
      "cell_type": "code",
      "metadata": {
        "colab": {
          "base_uri": "https://localhost:8080/"
        },
        "id": "2d3dUpoTdVqG",
        "outputId": "483e7913-03ba-4417-d590-fbee85d65d4e"
      },
      "source": [
        "hist = model.fit(train_generator, epochs = 6, validation_data=val_generator, validation_steps=2)"
      ],
      "execution_count": 9,
      "outputs": [
        {
          "output_type": "stream",
          "text": [
            "Epoch 1/6\n",
            "7/7 [==============================] - 148s 20s/step - loss: 4.1166 - accuracy: 0.4884 - val_loss: 0.6837 - val_accuracy: 0.8833\n",
            "Epoch 2/6\n",
            "7/7 [==============================] - 76s 11s/step - loss: 0.5738 - accuracy: 0.7288 - val_loss: 0.3300 - val_accuracy: 0.9333\n",
            "Epoch 3/6\n",
            "7/7 [==============================] - 76s 11s/step - loss: 0.3271 - accuracy: 0.8449 - val_loss: 0.1990 - val_accuracy: 0.9667\n",
            "Epoch 4/6\n",
            "7/7 [==============================] - 76s 11s/step - loss: 0.2403 - accuracy: 0.9089 - val_loss: 0.1894 - val_accuracy: 0.9667\n",
            "Epoch 5/6\n",
            "7/7 [==============================] - 76s 11s/step - loss: 0.2300 - accuracy: 0.9241 - val_loss: 0.5050 - val_accuracy: 0.9667\n",
            "Epoch 6/6\n",
            "7/7 [==============================] - 76s 11s/step - loss: 0.2350 - accuracy: 0.9353 - val_loss: 0.0753 - val_accuracy: 0.9667\n"
          ],
          "name": "stdout"
        }
      ]
    },
    {
      "cell_type": "code",
      "metadata": {
        "id": "0s2HEWxndZLh"
      },
      "source": [
        ""
      ],
      "execution_count": null,
      "outputs": []
    }
  ]
}